{
 "cells": [
  {
   "cell_type": "code",
   "execution_count": 28,
   "metadata": {},
   "outputs": [
    {
     "name": "stdout",
     "output_type": "stream",
     "text": [
      "Read shared variables created in network.ipynb\n",
      "\n",
      "(209, 12288)\n",
      "(209,)\n",
      "(50, 12288)\n",
      "(50,)\n"
     ]
    }
   ],
   "source": [
    "from sklearn.model_selection import train_test_split\n",
    "from sklearn.metrics import confusion_matrix\n",
    "from sklearn.preprocessing import PolynomialFeatures\n",
    "from sklearn.linear_model import LogisticRegression\n",
    "\n",
    "# This line is simply to avoid syntax error in VSCode\n",
    "train_set_x_flat, train_set_y, test_set_x_flat, test_set_y = None, None, None, None\n",
    "\n",
    "print(\"Read shared variables created in network.ipynb\\n\")\n",
    "%store -r train_set_x_flat\n",
    "%store -r train_set_y\n",
    "%store -r test_set_x_flat\n",
    "%store -r test_set_y\n",
    "\n",
    "print(train_set_x_flat.shape)\n",
    "print(train_set_y.shape)\n",
    "print(test_set_x_flat.shape)\n",
    "print(test_set_y.shape)"
   ]
  },
  {
   "cell_type": "code",
   "execution_count": 29,
   "metadata": {},
   "outputs": [
    {
     "name": "stdout",
     "output_type": "stream",
     "text": [
      "Training accuracy = 1.0\n",
      "[[137   0]\n",
      " [  0  72]]\n",
      "Testing accuracy = 0.72\n",
      "[[13  4]\n",
      " [10 23]]\n"
     ]
    }
   ],
   "source": [
    "# Train the scikit-learn Logistic Regression model\n",
    "clf = LogisticRegression(random_state=0,penalty='l2',max_iter=10000)\n",
    "clf.fit(train_set_x_flat, train_set_y)\n",
    "  \n",
    "print('Training accuracy =',clf.score(train_set_x_flat, train_set_y))\n",
    "y_train_prediction = clf.predict(train_set_x_flat)\n",
    "print(confusion_matrix(train_set_y, y_train_prediction))\n",
    "\n",
    "print('Testing accuracy =',clf.score(test_set_x_flat, test_set_y))\n",
    "y_test_prediction = clf.predict(test_set_x_flat)\n",
    "print(confusion_matrix(test_set_y, y_test_prediction))\n",
    "\n"
   ]
  }
 ],
 "metadata": {
  "kernelspec": {
   "display_name": "Python 3.10.4 64-bit",
   "language": "python",
   "name": "python3"
  },
  "language_info": {
   "codemirror_mode": {
    "name": "ipython",
    "version": 3
   },
   "file_extension": ".py",
   "mimetype": "text/x-python",
   "name": "python",
   "nbconvert_exporter": "python",
   "pygments_lexer": "ipython3",
   "version": "3.10.4"
  },
  "orig_nbformat": 4,
  "vscode": {
   "interpreter": {
    "hash": "916dbcbb3f70747c44a77c7bcd40155683ae19c65e1c03b4aa3499c5328201f1"
   }
  }
 },
 "nbformat": 4,
 "nbformat_minor": 2
}
