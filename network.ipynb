{
 "cells": [
  {
   "cell_type": "code",
   "execution_count": 35,
   "metadata": {},
   "outputs": [
    {
     "name": "stdout",
     "output_type": "stream",
     "text": [
      "<HDF5 file \"train_catvnoncat.h5\" (mode r)>\n",
      "<HDF5 file \"test_catvnoncat.h5\" (mode r)>\n"
     ]
    }
   ],
   "source": [
    "import h5py\n",
    "import numpy as np\n",
    "\n",
    "# h5 files contain multidimensional arrays, to load them to python use h5py.File\n",
    "train_dataset = h5py.File('train_catvnoncat.h5', \"r\")\n",
    "test_dataset = h5py.File('test_catvnoncat.h5', \"r\")\n",
    "\n",
    "print(train_dataset)\n",
    "print(test_dataset)"
   ]
  },
  {
   "cell_type": "code",
   "execution_count": 36,
   "metadata": {},
   "outputs": [
    {
     "name": "stdout",
     "output_type": "stream",
     "text": [
      "Each image has 64x64x3 dimensions (4096 colored pixels)\n",
      "\n",
      "The training set has 209 images\n",
      "(209, 64, 64, 3)\n",
      "(209,)\n",
      "\n",
      "The test set has 50 images\n",
      "(50, 64, 64, 3)\n",
      "(50,)\n",
      "\n",
      "The model will predict between the following classes:\n",
      "[b'non-cat' b'cat']\n"
     ]
    }
   ],
   "source": [
    "\n",
    "train_set_x = np.array(train_dataset[\"train_set_x\"][:]) # your train set features\n",
    "train_set_y = np.array(train_dataset[\"train_set_y\"][:]) # your train set labels\n",
    "\n",
    "test_set_x = np.array(test_dataset[\"test_set_x\"][:]) # your test set features\n",
    "test_set_y = np.array(test_dataset[\"test_set_y\"][:]) # your test set labels\n",
    "\n",
    "classes = np.array(test_dataset[\"list_classes\"][:]) # the list of classes\n",
    "\n",
    "print(\"Each image has 64x64x3 dimensions (4096 colored pixels)\")\n",
    "\n",
    "print(\"\\nThe training set has 209 images\")\n",
    "print(train_set_x.shape)\n",
    "print(train_set_y.shape)\n",
    "\n",
    "print(\"\\nThe test set has 50 images\")\n",
    "print(test_set_x.shape)\n",
    "print(test_set_y.shape)\n",
    "\n",
    "print(\"\\nThe model will predict between the following classes:\")\n",
    "print(classes)\n"
   ]
  },
  {
   "cell_type": "code",
   "execution_count": 37,
   "metadata": {},
   "outputs": [
    {
     "name": "stdout",
     "output_type": "stream",
     "text": [
      "Using -1 inside reshape will make numpy flatten all the other dimension into a single vector, with unknown length\n",
      "(209, 12288)\n",
      "(50, 12288)\n",
      "\n",
      "Here we are making sure the y's have 1 column (see above prints)\n",
      "(209, 1)\n",
      "(50, 1)\n"
     ]
    }
   ],
   "source": [
    "print(\"Using -1 inside reshape will make numpy flatten all the other dimension into a single vector, with unknown length\")\n",
    "train_set_x_flat = train_set_x.reshape((train_set_x.shape[0], -1))\n",
    "test_set_x_flat = test_set_x.reshape((test_set_x.shape[0], -1))\n",
    "\n",
    "print(train_set_x_flat.shape)\n",
    "print(test_set_x_flat.shape)\n",
    "\n",
    "# print(\"\\nHere we are making sure the y's have 1 column (see above prints)\")\n",
    "# train_set_y_vector = train_set_y.reshape((train_set_y.shape[0], 1))\n",
    "# test_set_y_vector = test_set_y.reshape((test_set_y.shape[0], 1))\n",
    "\n",
    "# print(train_set_y_vector.shape)\n",
    "# print(test_set_y_vector.shape)"
   ]
  },
  {
   "cell_type": "code",
   "execution_count": 38,
   "metadata": {},
   "outputs": [
    {
     "name": "stdout",
     "output_type": "stream",
     "text": [
      "Share variables between notebooks\n",
      "\n",
      "Stored 'train_set_x_flat' (ndarray)\n",
      "Stored 'train_set_y_vector' (ndarray)\n",
      "Stored 'test_set_x_flat' (ndarray)\n",
      "Stored 'test_set_y_vector' (ndarray)\n"
     ]
    }
   ],
   "source": [
    "print(\"Share variables between notebooks\\n\")\n",
    "%store train_set_x_flat\n",
    "del train_set_x_flat\n",
    "\n",
    "%store train_set_y\n",
    "del train_set_y\n",
    "\n",
    "%store test_set_x_flat\n",
    "del test_set_x_flat\n",
    "\n",
    "%store test_set_y\n",
    "del test_set_y"
   ]
  }
 ],
 "metadata": {
  "kernelspec": {
   "display_name": "Python 3.10.4 64-bit",
   "language": "python",
   "name": "python3"
  },
  "language_info": {
   "codemirror_mode": {
    "name": "ipython",
    "version": 3
   },
   "file_extension": ".py",
   "mimetype": "text/x-python",
   "name": "python",
   "nbconvert_exporter": "python",
   "pygments_lexer": "ipython3",
   "version": "3.10.4"
  },
  "orig_nbformat": 4,
  "vscode": {
   "interpreter": {
    "hash": "916dbcbb3f70747c44a77c7bcd40155683ae19c65e1c03b4aa3499c5328201f1"
   }
  }
 },
 "nbformat": 4,
 "nbformat_minor": 2
}
