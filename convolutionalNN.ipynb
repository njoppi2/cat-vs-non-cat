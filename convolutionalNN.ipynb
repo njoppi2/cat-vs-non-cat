{
 "cells": [
  {
   "cell_type": "code",
   "execution_count": 1,
   "metadata": {},
   "outputs": [
    {
     "name": "stderr",
     "output_type": "stream",
     "text": [
      "2022-08-26 14:34:46.757847: W tensorflow/stream_executor/platform/default/dso_loader.cc:64] Could not load dynamic library 'libcudart.so.11.0'; dlerror: libcudart.so.11.0: cannot open shared object file: No such file or directory\n",
      "2022-08-26 14:34:46.757904: I tensorflow/stream_executor/cuda/cudart_stub.cc:29] Ignore above cudart dlerror if you do not have a GPU set up on your machine.\n"
     ]
    },
    {
     "name": "stdout",
     "output_type": "stream",
     "text": [
      "Read shared variables created in network.ipynb\n",
      "\n",
      "(209, 64, 64, 3)\n",
      "(209,)\n",
      "(50, 64, 64, 3)\n",
      "(50,)\n"
     ]
    }
   ],
   "source": [
    "from sklearn.model_selection import train_test_split\n",
    "from sklearn.metrics import confusion_matrix\n",
    "from sklearn.preprocessing import PolynomialFeatures\n",
    "from sklearn.linear_model import LogisticRegression\n",
    "from sklearn.metrics import ConfusionMatrixDisplay\n",
    "from sklearn.metrics import accuracy_score\n",
    "import matplotlib.pyplot as plt                                        # for plotting\n",
    "import tensorflow as tf\n",
    "from tensorflow import keras\n",
    "# from tensorflow.keras.utils import to_categorical\n",
    "\n",
    "# This line is simply to avoid syntax errors in VSCode\n",
    "train_set_x, train_set_y, test_set_x, test_set_y = None, None, None, None\n",
    "\n",
    "print(\"Read shared variables created in network.ipynb\\n\")\n",
    "%store -r train_set_x\n",
    "%store -r train_set_y\n",
    "%store -r test_set_x\n",
    "%store -r test_set_y\n",
    "\n",
    "print(train_set_x.shape)\n",
    "print(train_set_y.shape)\n",
    "print(test_set_x.shape)\n",
    "print(test_set_y.shape)"
   ]
  },
  {
   "cell_type": "code",
   "execution_count": 2,
   "metadata": {},
   "outputs": [
    {
     "name": "stderr",
     "output_type": "stream",
     "text": [
      "2022-08-26 14:34:50.220645: W tensorflow/stream_executor/platform/default/dso_loader.cc:64] Could not load dynamic library 'libcuda.so.1'; dlerror: libcuda.so.1: cannot open shared object file: No such file or directory\n",
      "2022-08-26 14:34:50.220683: W tensorflow/stream_executor/cuda/cuda_driver.cc:269] failed call to cuInit: UNKNOWN ERROR (303)\n",
      "2022-08-26 14:34:50.220716: I tensorflow/stream_executor/cuda/cuda_diagnostics.cc:156] kernel driver does not appear to be running on this host (nPC): /proc/driver/nvidia/version does not exist\n"
     ]
    }
   ],
   "source": [
    "input_shape = (64, 64, 3)\n",
    "num_classes = 1\n",
    "model_cnn = keras.Sequential(\n",
    "    [\n",
    "        keras.Input(shape=input_shape),\n",
    "        keras.layers.Conv2D(32, kernel_size=(3, 3), activation=\"relu\"),\n",
    "        keras.layers.MaxPooling2D(pool_size=(2, 2)),\n",
    "        keras.layers.Dropout(0.3),     \n",
    "        keras.layers.Conv2D(64, kernel_size=(3, 3), activation=\"relu\"),\n",
    "        keras.layers.MaxPooling2D(pool_size=(2, 2)),\n",
    "        keras.layers.Flatten(),\n",
    "        keras.layers.Dropout(0.3),\n",
    "        keras.layers.Dense(512, activation=\"relu\"),\n",
    "        keras.layers.Dense(num_classes, activation=\"softmax\"),\n",
    "    ]\n",
    ")"
   ]
  },
  {
   "cell_type": "code",
   "execution_count": 3,
   "metadata": {},
   "outputs": [
    {
     "name": "stdout",
     "output_type": "stream",
     "text": [
      "Model: \"sequential\"\n",
      "_________________________________________________________________\n",
      " Layer (type)                Output Shape              Param #   \n",
      "=================================================================\n",
      " conv2d (Conv2D)             (None, 62, 62, 32)        896       \n",
      "                                                                 \n",
      " max_pooling2d (MaxPooling2D  (None, 31, 31, 32)       0         \n",
      " )                                                               \n",
      "                                                                 \n",
      " dropout (Dropout)           (None, 31, 31, 32)        0         \n",
      "                                                                 \n",
      " conv2d_1 (Conv2D)           (None, 29, 29, 64)        18496     \n",
      "                                                                 \n",
      " max_pooling2d_1 (MaxPooling  (None, 14, 14, 64)       0         \n",
      " 2D)                                                             \n",
      "                                                                 \n",
      " flatten (Flatten)           (None, 12544)             0         \n",
      "                                                                 \n",
      " dropout_1 (Dropout)         (None, 12544)             0         \n",
      "                                                                 \n",
      " dense (Dense)               (None, 512)               6423040   \n",
      "                                                                 \n",
      " dense_1 (Dense)             (None, 1)                 513       \n",
      "                                                                 \n",
      "=================================================================\n",
      "Total params: 6,442,945\n",
      "Trainable params: 6,442,945\n",
      "Non-trainable params: 0\n",
      "_________________________________________________________________\n"
     ]
    }
   ],
   "source": [
    "lr=0.005\n",
    "opt = keras.optimizers.Adam(learning_rate=lr)\n",
    "# Compile the model.\n",
    "model_cnn.compile(\n",
    "  opt,\n",
    "  loss='categorical_crossentropy',\n",
    "  metrics=['accuracy'],\n",
    ")\n",
    "model_cnn.summary()"
   ]
  },
  {
   "cell_type": "code",
   "execution_count": 5,
   "metadata": {},
   "outputs": [
    {
     "name": "stdout",
     "output_type": "stream",
     "text": [
      "Epoch 1/30\n",
      "2/2 [==============================] - 4s 2s/step - loss: 0.0000e+00 - accuracy: 0.3445 - val_loss: 0.0000e+00 - val_accuracy: 0.6600\n",
      "Epoch 2/30\n",
      "2/2 [==============================] - 4s 2s/step - loss: 0.0000e+00 - accuracy: 0.3445 - val_loss: 0.0000e+00 - val_accuracy: 0.6600\n",
      "Epoch 3/30\n",
      "2/2 [==============================] - 3s 1s/step - loss: 0.0000e+00 - accuracy: 0.3445 - val_loss: 0.0000e+00 - val_accuracy: 0.6600\n",
      "Epoch 4/30\n",
      "2/2 [==============================] - 3s 1s/step - loss: 0.0000e+00 - accuracy: 0.3445 - val_loss: 0.0000e+00 - val_accuracy: 0.6600\n",
      "Epoch 5/30\n",
      "2/2 [==============================] - 3s 1s/step - loss: 0.0000e+00 - accuracy: 0.3445 - val_loss: 0.0000e+00 - val_accuracy: 0.6600\n",
      "Epoch 6/30\n",
      "2/2 [==============================] - 3s 1s/step - loss: 0.0000e+00 - accuracy: 0.3445 - val_loss: 0.0000e+00 - val_accuracy: 0.6600\n",
      "Epoch 7/30\n",
      "2/2 [==============================] - 3s 1s/step - loss: 0.0000e+00 - accuracy: 0.3445 - val_loss: 0.0000e+00 - val_accuracy: 0.6600\n",
      "Epoch 8/30\n",
      "2/2 [==============================] - 3s 1s/step - loss: 0.0000e+00 - accuracy: 0.3445 - val_loss: 0.0000e+00 - val_accuracy: 0.6600\n",
      "Epoch 9/30\n",
      "2/2 [==============================] - 3s 1s/step - loss: 0.0000e+00 - accuracy: 0.3445 - val_loss: 0.0000e+00 - val_accuracy: 0.6600\n",
      "Epoch 10/30\n",
      "2/2 [==============================] - 3s 1s/step - loss: 0.0000e+00 - accuracy: 0.3445 - val_loss: 0.0000e+00 - val_accuracy: 0.6600\n",
      "Epoch 11/30\n",
      "2/2 [==============================] - 3s 1s/step - loss: 0.0000e+00 - accuracy: 0.3445 - val_loss: 0.0000e+00 - val_accuracy: 0.6600\n",
      "Epoch 12/30\n",
      "2/2 [==============================] - 3s 1s/step - loss: 0.0000e+00 - accuracy: 0.3445 - val_loss: 0.0000e+00 - val_accuracy: 0.6600\n",
      "Epoch 13/30\n",
      "2/2 [==============================] - 3s 1s/step - loss: 0.0000e+00 - accuracy: 0.3445 - val_loss: 0.0000e+00 - val_accuracy: 0.6600\n",
      "Epoch 14/30\n",
      "2/2 [==============================] - 3s 1s/step - loss: 0.0000e+00 - accuracy: 0.3445 - val_loss: 0.0000e+00 - val_accuracy: 0.6600\n",
      "Epoch 15/30\n",
      "2/2 [==============================] - 3s 1s/step - loss: 0.0000e+00 - accuracy: 0.3445 - val_loss: 0.0000e+00 - val_accuracy: 0.6600\n",
      "Epoch 16/30\n",
      "2/2 [==============================] - 3s 1s/step - loss: 0.0000e+00 - accuracy: 0.3445 - val_loss: 0.0000e+00 - val_accuracy: 0.6600\n",
      "Epoch 17/30\n",
      "2/2 [==============================] - 3s 2s/step - loss: 0.0000e+00 - accuracy: 0.3445 - val_loss: 0.0000e+00 - val_accuracy: 0.6600\n",
      "Epoch 18/30\n",
      "2/2 [==============================] - 3s 1s/step - loss: 0.0000e+00 - accuracy: 0.3445 - val_loss: 0.0000e+00 - val_accuracy: 0.6600\n",
      "Epoch 19/30\n",
      "2/2 [==============================] - 3s 1s/step - loss: 0.0000e+00 - accuracy: 0.3445 - val_loss: 0.0000e+00 - val_accuracy: 0.6600\n",
      "Epoch 20/30\n",
      "2/2 [==============================] - 3s 1s/step - loss: 0.0000e+00 - accuracy: 0.3445 - val_loss: 0.0000e+00 - val_accuracy: 0.6600\n",
      "Epoch 21/30\n",
      "2/2 [==============================] - 3s 1s/step - loss: 0.0000e+00 - accuracy: 0.3445 - val_loss: 0.0000e+00 - val_accuracy: 0.6600\n",
      "Epoch 22/30\n",
      "2/2 [==============================] - 4s 2s/step - loss: 0.0000e+00 - accuracy: 0.3445 - val_loss: 0.0000e+00 - val_accuracy: 0.6600\n",
      "Epoch 23/30\n",
      "2/2 [==============================] - 3s 1s/step - loss: 0.0000e+00 - accuracy: 0.3445 - val_loss: 0.0000e+00 - val_accuracy: 0.6600\n",
      "Epoch 24/30\n",
      "2/2 [==============================] - 3s 1s/step - loss: 0.0000e+00 - accuracy: 0.3445 - val_loss: 0.0000e+00 - val_accuracy: 0.6600\n",
      "Epoch 25/30\n",
      "2/2 [==============================] - 3s 2s/step - loss: 0.0000e+00 - accuracy: 0.3445 - val_loss: 0.0000e+00 - val_accuracy: 0.6600\n",
      "Epoch 26/30\n",
      "2/2 [==============================] - 3s 1s/step - loss: 0.0000e+00 - accuracy: 0.3445 - val_loss: 0.0000e+00 - val_accuracy: 0.6600\n",
      "Epoch 27/30\n",
      "2/2 [==============================] - 3s 1s/step - loss: 0.0000e+00 - accuracy: 0.3445 - val_loss: 0.0000e+00 - val_accuracy: 0.6600\n",
      "Epoch 28/30\n",
      "2/2 [==============================] - 3s 1s/step - loss: 0.0000e+00 - accuracy: 0.3445 - val_loss: 0.0000e+00 - val_accuracy: 0.6600\n",
      "Epoch 29/30\n",
      "2/2 [==============================] - 3s 1s/step - loss: 0.0000e+00 - accuracy: 0.3445 - val_loss: 0.0000e+00 - val_accuracy: 0.6600\n",
      "Epoch 30/30\n",
      "2/2 [==============================] - 3s 1s/step - loss: 0.0000e+00 - accuracy: 0.3445 - val_loss: 0.0000e+00 - val_accuracy: 0.6600\n"
     ]
    }
   ],
   "source": [
    "early_stop = keras.callbacks.EarlyStopping(monitor='val_loss', patience=100)\n",
    "\n",
    "results = model_cnn.fit(\n",
    "  train_set_x,\n",
    "  train_set_y,\n",
    "  epochs=30,\n",
    "  batch_size=128,\n",
    "  validation_data=(test_set_x, test_set_y),\n",
    "  verbose = 1,\n",
    "  callbacks=[early_stop]\n",
    ")\n"
   ]
  },
  {
   "cell_type": "code",
   "execution_count": 6,
   "metadata": {},
   "outputs": [
    {
     "data": {
      "image/png": "[encoded data removed]",
      "text/plain": [
       "<Figure size 432x288 with 1 Axes>"
      ]
     },
     "metadata": {
      "needs_background": "light"
     },
     "output_type": "display_data"
    },
    {
     "data": {
      "image/png": "[encoded data removed]",
      "text/plain": [
       "<Figure size 432x288 with 1 Axes>"
      ]
     },
     "metadata": {
      "needs_background": "light"
     },
     "output_type": "display_data"
    },
    {
     "name": "stdout",
     "output_type": "stream",
     "text": [
      "2/2 [==============================] - 0s 58ms/step\n"
     ]
    },
    {
     "data": {
      "text/plain": [
       "<sklearn.metrics._plot.confusion_matrix.ConfusionMatrixDisplay at 0x7f2812538340>"
      ]
     },
     "execution_count": 6,
     "metadata": {},
     "output_type": "execute_result"
    },
    {
     "data": {
      "image/png": "[encoded data removed]",
      "text/plain": [
       "<Figure size 432x288 with 2 Axes>"
      ]
     },
     "metadata": {
      "needs_background": "light"
     },
     "output_type": "display_data"
    }
   ],
   "source": [
    "acc = results.history['accuracy']\n",
    "val_acc = results.history['val_accuracy']\n",
    "loss = results.history['loss']\n",
    "val_loss = results.history['val_loss']\n",
    "epochs = range(1, len(acc) + 1)\n",
    "\n",
    "plt.plot(epochs, acc, 'b', label= 'Training accuracy')\n",
    "plt.plot(epochs, val_acc, 'r', label= 'Validation accuracy')\n",
    "plt.title('Training and Validation accuracy')\n",
    "plt.legend()\n",
    "\n",
    "plt.figure()\n",
    "plt.plot(epochs, loss, 'b', label= 'Training loss')\n",
    "plt.plot(epochs, val_loss, 'r', label= 'Validation loss')\n",
    "plt.title('Training and Validation loss')\n",
    "plt.legend()\n",
    "\n",
    "plt.show()\n",
    "\n",
    "num_classes = 2\n",
    "# one-hot-encoding y set\n",
    "y_test_multi_class = keras.utils.to_categorical(test_set_y, num_classes)\n",
    "y_test_prediction = model_cnn.predict(test_set_x)\n",
    "\n",
    "tf.compat.v1.disable_eager_execution() # this avoids a warning message, more info in https://stackoverflow.com/questions/69136518/tensorflow-2-getting-warningtensorflowx-out-of-the-last-x-calls-to-function\n",
    "\n",
    "#Your input to confusion_matrix must be an array of int not one hot encodings.\n",
    "ConfusionMatrixDisplay.from_predictions(y_test_multi_class.argmax(axis=1), y_test_prediction.argmax(axis=1))"
   ]
  }
 ],
 "metadata": {
  "kernelspec": {
   "display_name": "Python 3.10.4 64-bit",
   "language": "python",
   "name": "python3"
  },
  "language_info": {
   "codemirror_mode": {
    "name": "ipython",
    "version": 3
   },
   "file_extension": ".py",
   "mimetype": "text/x-python",
   "name": "python",
   "nbconvert_exporter": "python",
   "pygments_lexer": "ipython3",
   "version": "3.10.4"
  },
  "orig_nbformat": 4,
  "vscode": {
   "interpreter": {
    "hash": "916dbcbb3f70747c44a77c7bcd40155683ae19c65e1c03b4aa3499c5328201f1"
   }
  }
 },
 "nbformat": 4,
 "nbformat_minor": 2
}
