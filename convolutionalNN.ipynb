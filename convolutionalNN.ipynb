{
 "cells": [
  {
   "cell_type": "code",
   "execution_count": 1,
   "metadata": {},
   "outputs": [
    {
     "name": "stderr",
     "output_type": "stream",
     "text": [
      "2023-08-08 03:20:47.019080: I tensorflow/tsl/cuda/cudart_stub.cc:28] Could not find cuda drivers on your machine, GPU will not be used.\n",
      "2023-08-08 03:20:47.683874: I tensorflow/tsl/cuda/cudart_stub.cc:28] Could not find cuda drivers on your machine, GPU will not be used.\n",
      "2023-08-08 03:20:52.648299: W tensorflow/compiler/tf2tensorrt/utils/py_utils.cc:38] TF-TRT Warning: Could not find TensorRT\n"
     ]
    },
    {
     "name": "stdout",
     "output_type": "stream",
     "text": [
      "(209, 64, 64, 3)\n",
      "(209,)\n",
      "(50, 64, 64, 3)\n",
      "(50,)\n"
     ]
    }
   ],
   "source": [
    "from sklearn.model_selection import train_test_split\n",
    "from sklearn.metrics import confusion_matrix\n",
    "from sklearn.preprocessing import PolynomialFeatures\n",
    "from sklearn.linear_model import LogisticRegression\n",
    "from sklearn.metrics import ConfusionMatrixDisplay\n",
    "from sklearn.metrics import accuracy_score\n",
    "import matplotlib.pyplot as plt                                        # for plotting\n",
    "import tensorflow as tf\n",
    "from tensorflow import keras\n",
    "from tensorflow.keras.utils import to_categorical\n",
    "from utils.functions import load_dataset\n",
    "\n",
    "\n",
    "train_set_x, _, train_set_y, test_set_x, _, test_set_y = load_dataset()\n",
    "\n",
    "print(train_set_x.shape)\n",
    "print(train_set_y.shape)\n",
    "print(test_set_x.shape)\n",
    "print(test_set_y.shape)"
   ]
  },
  {
   "cell_type": "code",
   "execution_count": 2,
   "metadata": {},
   "outputs": [
    {
     "name": "stdout",
     "output_type": "stream",
     "text": [
      "without normalization:\n",
      "[[[17 31 56]\n",
      "  [22 33 59]\n",
      "  [25 35 62]\n",
      "  ...\n",
      "  [ 1 28 57]\n",
      "  [ 1 26 56]\n",
      "  [ 1 22 51]]\n",
      "\n",
      " [[25 36 62]\n",
      "  [28 38 64]\n",
      "  [30 40 67]\n",
      "  ...\n",
      "  [ 1 27 56]\n",
      "  [ 1 25 55]\n",
      "  [ 2 21 51]]\n",
      "\n",
      " [[32 40 67]\n",
      "  [34 42 69]\n",
      "  [35 42 70]\n",
      "  ...\n",
      "  [ 1 25 55]\n",
      "  [ 0 24 54]\n",
      "  [ 1 21 51]]\n",
      "\n",
      " ...\n",
      "\n",
      " [[ 0  0  0]\n",
      "  [ 0  0  0]\n",
      "  [ 0  0  0]\n",
      "  ...\n",
      "  [ 0  0  0]\n",
      "  [ 0  0  0]\n",
      "  [ 0  0  0]]\n",
      "\n",
      " [[ 0  0  0]\n",
      "  [ 0  0  0]\n",
      "  [ 0  0  0]\n",
      "  ...\n",
      "  [ 0  0  0]\n",
      "  [ 0  0  0]\n",
      "  [ 0  0  0]]\n",
      "\n",
      " [[ 0  0  0]\n",
      "  [ 0  0  0]\n",
      "  [ 0  0  0]\n",
      "  ...\n",
      "  [ 0  0  0]\n",
      "  [ 0  0  0]\n",
      "  [ 0  0  0]]]\n",
      "\n",
      "with normalization:\n",
      "[[[0.06666667 0.12156863 0.21960784]\n",
      "  [0.08627451 0.12941176 0.23137255]\n",
      "  [0.09803922 0.1372549  0.24313725]\n",
      "  ...\n",
      "  [0.00392157 0.10980392 0.22352941]\n",
      "  [0.00392157 0.10196078 0.21960784]\n",
      "  [0.00392157 0.08627451 0.2       ]]\n",
      "\n",
      " [[0.09803922 0.14117647 0.24313725]\n",
      "  [0.10980392 0.14901961 0.25098039]\n",
      "  [0.11764706 0.15686275 0.2627451 ]\n",
      "  ...\n",
      "  [0.00392157 0.10588235 0.21960784]\n",
      "  [0.00392157 0.09803922 0.21568627]\n",
      "  [0.00784314 0.08235294 0.2       ]]\n",
      "\n",
      " [[0.1254902  0.15686275 0.2627451 ]\n",
      "  [0.13333333 0.16470588 0.27058824]\n",
      "  [0.1372549  0.16470588 0.2745098 ]\n",
      "  ...\n",
      "  [0.00392157 0.09803922 0.21568627]\n",
      "  [0.         0.09411765 0.21176471]\n",
      "  [0.00392157 0.08235294 0.2       ]]\n",
      "\n",
      " ...\n",
      "\n",
      " [[0.         0.         0.        ]\n",
      "  [0.         0.         0.        ]\n",
      "  [0.         0.         0.        ]\n",
      "  ...\n",
      "  [0.         0.         0.        ]\n",
      "  [0.         0.         0.        ]\n",
      "  [0.         0.         0.        ]]\n",
      "\n",
      " [[0.         0.         0.        ]\n",
      "  [0.         0.         0.        ]\n",
      "  [0.         0.         0.        ]\n",
      "  ...\n",
      "  [0.         0.         0.        ]\n",
      "  [0.         0.         0.        ]\n",
      "  [0.         0.         0.        ]]\n",
      "\n",
      " [[0.         0.         0.        ]\n",
      "  [0.         0.         0.        ]\n",
      "  [0.         0.         0.        ]\n",
      "  ...\n",
      "  [0.         0.         0.        ]\n",
      "  [0.         0.         0.        ]\n",
      "  [0.         0.         0.        ]]]\n"
     ]
    }
   ],
   "source": [
    "# normalize pixel values to be in interval [0, 1]\n",
    "train_set_x_n = train_set_x / 255.0\n",
    "test_set_x_n = test_set_x / 255.0\n",
    "\n",
    "print(\"without normalization:\")\n",
    "print(train_set_x[0])\n",
    "print(\"\\nwith normalization:\")\n",
    "print(train_set_x_n[0])"
   ]
  },
  {
   "cell_type": "code",
   "execution_count": 3,
   "metadata": {},
   "outputs": [],
   "source": [
    "input_shape = (64, 64, 3)\n",
    "num_classes = 1\n",
    "\n",
    "model_cnn = keras.Sequential(\n",
    "    [\n",
    "        keras.Input(shape=input_shape),\n",
    "        keras.layers.Conv2D(32, kernel_size=(3, 3), activation=\"relu\"),\n",
    "        keras.layers.MaxPooling2D(pool_size=(2, 2)),\n",
    "        keras.layers.Dropout(0.3),     \n",
    "        keras.layers.Conv2D(64, kernel_size=(3, 3), activation=\"relu\"),\n",
    "        keras.layers.MaxPooling2D(pool_size=(2, 2)),\n",
    "        keras.layers.Flatten(),\n",
    "        keras.layers.Dropout(0.3),\n",
    "        keras.layers.Dense(512, activation=\"relu\"),\n",
    "        keras.layers.Dense(num_classes, activation=\"sigmoid\"),\n",
    "    ]\n",
    ")"
   ]
  },
  {
   "cell_type": "code",
   "execution_count": 4,
   "metadata": {},
   "outputs": [
    {
     "name": "stdout",
     "output_type": "stream",
     "text": [
      "Model: \"sequential\"\n",
      "_________________________________________________________________\n",
      " Layer (type)                Output Shape              Param #   \n",
      "=================================================================\n",
      " conv2d (Conv2D)             (None, 62, 62, 32)        896       \n",
      "                                                                 \n",
      " max_pooling2d (MaxPooling2D  (None, 31, 31, 32)       0         \n",
      " )                                                               \n",
      "                                                                 \n",
      " dropout (Dropout)           (None, 31, 31, 32)        0         \n",
      "                                                                 \n",
      " conv2d_1 (Conv2D)           (None, 29, 29, 64)        18496     \n",
      "                                                                 \n",
      " max_pooling2d_1 (MaxPooling  (None, 14, 14, 64)       0         \n",
      " 2D)                                                             \n",
      "                                                                 \n",
      " flatten (Flatten)           (None, 12544)             0         \n",
      "                                                                 \n",
      " dropout_1 (Dropout)         (None, 12544)             0         \n",
      "                                                                 \n",
      " dense (Dense)               (None, 512)               6423040   \n",
      "                                                                 \n",
      " dense_1 (Dense)             (None, 1)                 513       \n",
      "                                                                 \n",
      "=================================================================\n",
      "Total params: 6,442,945\n",
      "Trainable params: 6,442,945\n",
      "Non-trainable params: 0\n",
      "_________________________________________________________________\n",
      "None\n"
     ]
    }
   ],
   "source": [
    "# initial_learning_rate = 0.001\n",
    "# lr_schedule = tf.keras.optimizers.schedules.ExponentialDecay(\n",
    "#     initial_learning_rate,\n",
    "#     decay_steps=100000,\n",
    "#     decay_rate=0.92,\n",
    "#     staircase=True)\n",
    "opt = keras.optimizers.SGD(learning_rate=0.005)\n",
    "# Compile the model.\n",
    "model_cnn.compile(\n",
    "  optimizer=opt,\n",
    "  loss='binary_crossentropy',\n",
    "  metrics=['accuracy'],\n",
    ")\n",
    "print(model_cnn.summary())"
   ]
  },
  {
   "cell_type": "code",
   "execution_count": 5,
   "metadata": {},
   "outputs": [
    {
     "name": "stdout",
     "output_type": "stream",
     "text": [
      "Epoch 1/100\n"
     ]
    },
    {
     "name": "stderr",
     "output_type": "stream",
     "text": [
      "2023-08-08 03:21:00.123466: W tensorflow/tsl/framework/cpu_allocator_impl.cc:83] Allocation of 102834688 exceeds 10% of free system memory.\n",
      "2023-08-08 03:21:01.803241: W tensorflow/tsl/framework/cpu_allocator_impl.cc:83] Allocation of 102834688 exceeds 10% of free system memory.\n"
     ]
    },
    {
     "name": "stdout",
     "output_type": "stream",
     "text": [
      "1/1 [==============================] - 4s 4s/step - loss: 0.6570 - accuracy: 0.6555 - val_loss: 0.8480 - val_accuracy: 0.3400\n",
      "Epoch 2/100\n"
     ]
    },
    {
     "name": "stderr",
     "output_type": "stream",
     "text": [
      "2023-08-08 03:21:02.954169: W tensorflow/tsl/framework/cpu_allocator_impl.cc:83] Allocation of 102834688 exceeds 10% of free system memory.\n",
      "2023-08-08 03:21:04.940793: W tensorflow/tsl/framework/cpu_allocator_impl.cc:83] Allocation of 102834688 exceeds 10% of free system memory.\n"
     ]
    },
    {
     "name": "stdout",
     "output_type": "stream",
     "text": [
      "1/1 [==============================] - 3s 3s/step - loss: 0.6487 - accuracy: 0.6555 - val_loss: 0.8383 - val_accuracy: 0.3400\n",
      "Epoch 3/100\n"
     ]
    },
    {
     "name": "stderr",
     "output_type": "stream",
     "text": [
      "2023-08-08 03:21:05.791797: W tensorflow/tsl/framework/cpu_allocator_impl.cc:83] Allocation of 102834688 exceeds 10% of free system memory.\n"
     ]
    },
    {
     "name": "stdout",
     "output_type": "stream",
     "text": [
      "1/1 [==============================] - 2s 2s/step - loss: 0.6344 - accuracy: 0.6555 - val_loss: 0.8320 - val_accuracy: 0.3400\n",
      "Epoch 4/100\n",
      "1/1 [==============================] - 2s 2s/step - loss: 0.6444 - accuracy: 0.6555 - val_loss: 0.8257 - val_accuracy: 0.3400\n",
      "Epoch 5/100\n",
      "1/1 [==============================] - 2s 2s/step - loss: 0.6512 - accuracy: 0.6555 - val_loss: 0.8197 - val_accuracy: 0.3400\n",
      "Epoch 6/100\n",
      "1/1 [==============================] - 2s 2s/step - loss: 0.6448 - accuracy: 0.6555 - val_loss: 0.8158 - val_accuracy: 0.3400\n",
      "Epoch 7/100\n",
      "1/1 [==============================] - 2s 2s/step - loss: 0.6415 - accuracy: 0.6555 - val_loss: 0.8132 - val_accuracy: 0.3400\n",
      "Epoch 8/100\n",
      "1/1 [==============================] - 2s 2s/step - loss: 0.6372 - accuracy: 0.6555 - val_loss: 0.8105 - val_accuracy: 0.3400\n",
      "Epoch 9/100\n",
      "1/1 [==============================] - 3s 3s/step - loss: 0.6448 - accuracy: 0.6555 - val_loss: 0.8083 - val_accuracy: 0.3400\n",
      "Epoch 10/100\n",
      "1/1 [==============================] - 2s 2s/step - loss: 0.6411 - accuracy: 0.6555 - val_loss: 0.8064 - val_accuracy: 0.3400\n",
      "Epoch 11/100\n",
      "1/1 [==============================] - 2s 2s/step - loss: 0.6437 - accuracy: 0.6555 - val_loss: 0.8049 - val_accuracy: 0.3400\n",
      "Epoch 12/100\n",
      "1/1 [==============================] - 2s 2s/step - loss: 0.6401 - accuracy: 0.6555 - val_loss: 0.8032 - val_accuracy: 0.3400\n",
      "Epoch 13/100\n",
      "1/1 [==============================] - 2s 2s/step - loss: 0.6378 - accuracy: 0.6555 - val_loss: 0.8022 - val_accuracy: 0.3400\n",
      "Epoch 14/100\n",
      "1/1 [==============================] - 2s 2s/step - loss: 0.6378 - accuracy: 0.6555 - val_loss: 0.8014 - val_accuracy: 0.3400\n",
      "Epoch 15/100\n",
      "1/1 [==============================] - 2s 2s/step - loss: 0.6389 - accuracy: 0.6555 - val_loss: 0.8006 - val_accuracy: 0.3400\n",
      "Epoch 16/100\n",
      "1/1 [==============================] - 1s 1s/step - loss: 0.6423 - accuracy: 0.6555 - val_loss: 0.7995 - val_accuracy: 0.3400\n",
      "Epoch 17/100\n",
      "1/1 [==============================] - 1s 1s/step - loss: 0.6431 - accuracy: 0.6555 - val_loss: 0.7990 - val_accuracy: 0.3400\n",
      "Epoch 18/100\n",
      "1/1 [==============================] - 1s 1s/step - loss: 0.6422 - accuracy: 0.6555 - val_loss: 0.7990 - val_accuracy: 0.3400\n",
      "Epoch 19/100\n",
      "1/1 [==============================] - 1s 1s/step - loss: 0.6399 - accuracy: 0.6555 - val_loss: 0.7989 - val_accuracy: 0.3400\n",
      "Epoch 20/100\n",
      "1/1 [==============================] - 2s 2s/step - loss: 0.6409 - accuracy: 0.6555 - val_loss: 0.7990 - val_accuracy: 0.3400\n",
      "Epoch 21/100\n",
      "1/1 [==============================] - 2s 2s/step - loss: 0.6394 - accuracy: 0.6555 - val_loss: 0.7984 - val_accuracy: 0.3400\n",
      "Epoch 22/100\n",
      "1/1 [==============================] - 2s 2s/step - loss: 0.6450 - accuracy: 0.6555 - val_loss: 0.7976 - val_accuracy: 0.3400\n",
      "Epoch 23/100\n",
      "1/1 [==============================] - 2s 2s/step - loss: 0.6290 - accuracy: 0.6555 - val_loss: 0.7980 - val_accuracy: 0.3400\n",
      "Epoch 24/100\n",
      "1/1 [==============================] - 2s 2s/step - loss: 0.6425 - accuracy: 0.6555 - val_loss: 0.7970 - val_accuracy: 0.3400\n",
      "Epoch 25/100\n",
      "1/1 [==============================] - 2s 2s/step - loss: 0.6362 - accuracy: 0.6603 - val_loss: 0.7972 - val_accuracy: 0.3400\n",
      "Epoch 26/100\n",
      "1/1 [==============================] - 2s 2s/step - loss: 0.6348 - accuracy: 0.6555 - val_loss: 0.7970 - val_accuracy: 0.3400\n",
      "Epoch 27/100\n",
      "1/1 [==============================] - 2s 2s/step - loss: 0.6384 - accuracy: 0.6555 - val_loss: 0.7955 - val_accuracy: 0.3400\n",
      "Epoch 28/100\n",
      "1/1 [==============================] - 2s 2s/step - loss: 0.6516 - accuracy: 0.6555 - val_loss: 0.7936 - val_accuracy: 0.3400\n",
      "Epoch 29/100\n",
      "1/1 [==============================] - 2s 2s/step - loss: 0.6317 - accuracy: 0.6603 - val_loss: 0.7934 - val_accuracy: 0.3400\n",
      "Epoch 30/100\n",
      "1/1 [==============================] - 2s 2s/step - loss: 0.6448 - accuracy: 0.6555 - val_loss: 0.7938 - val_accuracy: 0.3400\n",
      "Epoch 31/100\n",
      "1/1 [==============================] - 2s 2s/step - loss: 0.6469 - accuracy: 0.6555 - val_loss: 0.7941 - val_accuracy: 0.3400\n",
      "Epoch 32/100\n",
      "1/1 [==============================] - 2s 2s/step - loss: 0.6374 - accuracy: 0.6555 - val_loss: 0.7940 - val_accuracy: 0.3400\n",
      "Epoch 33/100\n",
      "1/1 [==============================] - 2s 2s/step - loss: 0.6370 - accuracy: 0.6555 - val_loss: 0.7941 - val_accuracy: 0.3400\n",
      "Epoch 34/100\n",
      "1/1 [==============================] - 2s 2s/step - loss: 0.6402 - accuracy: 0.6555 - val_loss: 0.7935 - val_accuracy: 0.3400\n",
      "Epoch 35/100\n",
      "1/1 [==============================] - 2s 2s/step - loss: 0.6424 - accuracy: 0.6555 - val_loss: 0.7930 - val_accuracy: 0.3400\n",
      "Epoch 36/100\n",
      "1/1 [==============================] - 2s 2s/step - loss: 0.6386 - accuracy: 0.6555 - val_loss: 0.7935 - val_accuracy: 0.3400\n",
      "Epoch 37/100\n",
      "1/1 [==============================] - 2s 2s/step - loss: 0.6388 - accuracy: 0.6555 - val_loss: 0.7927 - val_accuracy: 0.3400\n",
      "Epoch 38/100\n",
      "1/1 [==============================] - 2s 2s/step - loss: 0.6360 - accuracy: 0.6555 - val_loss: 0.7932 - val_accuracy: 0.3400\n",
      "Epoch 39/100\n",
      "1/1 [==============================] - 2s 2s/step - loss: 0.6451 - accuracy: 0.6555 - val_loss: 0.7930 - val_accuracy: 0.3400\n",
      "Epoch 40/100\n",
      "1/1 [==============================] - 2s 2s/step - loss: 0.6319 - accuracy: 0.6555 - val_loss: 0.7920 - val_accuracy: 0.3400\n",
      "Epoch 41/100\n",
      "1/1 [==============================] - 2s 2s/step - loss: 0.6336 - accuracy: 0.6555 - val_loss: 0.7916 - val_accuracy: 0.3400\n",
      "Epoch 42/100\n",
      "1/1 [==============================] - 2s 2s/step - loss: 0.6377 - accuracy: 0.6555 - val_loss: 0.7909 - val_accuracy: 0.3400\n",
      "Epoch 43/100\n",
      "1/1 [==============================] - 2s 2s/step - loss: 0.6321 - accuracy: 0.6555 - val_loss: 0.7903 - val_accuracy: 0.3400\n",
      "Epoch 44/100\n",
      "1/1 [==============================] - 2s 2s/step - loss: 0.6346 - accuracy: 0.6555 - val_loss: 0.7910 - val_accuracy: 0.3400\n",
      "Epoch 45/100\n",
      "1/1 [==============================] - 2s 2s/step - loss: 0.6309 - accuracy: 0.6555 - val_loss: 0.7907 - val_accuracy: 0.3400\n",
      "Epoch 46/100\n",
      "1/1 [==============================] - 2s 2s/step - loss: 0.6397 - accuracy: 0.6555 - val_loss: 0.7896 - val_accuracy: 0.3400\n",
      "Epoch 47/100\n",
      "1/1 [==============================] - 2s 2s/step - loss: 0.6421 - accuracy: 0.6555 - val_loss: 0.7893 - val_accuracy: 0.3400\n",
      "Epoch 48/100\n",
      "1/1 [==============================] - 2s 2s/step - loss: 0.6290 - accuracy: 0.6555 - val_loss: 0.7885 - val_accuracy: 0.3400\n",
      "Epoch 49/100\n",
      "1/1 [==============================] - 2s 2s/step - loss: 0.6367 - accuracy: 0.6555 - val_loss: 0.7885 - val_accuracy: 0.3400\n",
      "Epoch 50/100\n",
      "1/1 [==============================] - 2s 2s/step - loss: 0.6375 - accuracy: 0.6555 - val_loss: 0.7881 - val_accuracy: 0.3400\n",
      "Epoch 51/100\n",
      "1/1 [==============================] - 2s 2s/step - loss: 0.6365 - accuracy: 0.6555 - val_loss: 0.7885 - val_accuracy: 0.3400\n",
      "Epoch 52/100\n",
      "1/1 [==============================] - 2s 2s/step - loss: 0.6370 - accuracy: 0.6555 - val_loss: 0.7876 - val_accuracy: 0.3400\n",
      "Epoch 53/100\n",
      "1/1 [==============================] - 3s 3s/step - loss: 0.6389 - accuracy: 0.6555 - val_loss: 0.7869 - val_accuracy: 0.3400\n",
      "Epoch 54/100\n",
      "1/1 [==============================] - 2s 2s/step - loss: 0.6389 - accuracy: 0.6555 - val_loss: 0.7870 - val_accuracy: 0.3400\n",
      "Epoch 55/100\n",
      "1/1 [==============================] - 2s 2s/step - loss: 0.6348 - accuracy: 0.6555 - val_loss: 0.7865 - val_accuracy: 0.3400\n",
      "Epoch 56/100\n",
      "1/1 [==============================] - 2s 2s/step - loss: 0.6346 - accuracy: 0.6555 - val_loss: 0.7875 - val_accuracy: 0.3400\n",
      "Epoch 57/100\n",
      "1/1 [==============================] - 2s 2s/step - loss: 0.6311 - accuracy: 0.6555 - val_loss: 0.7878 - val_accuracy: 0.3400\n",
      "Epoch 58/100\n",
      "1/1 [==============================] - 2s 2s/step - loss: 0.6331 - accuracy: 0.6555 - val_loss: 0.7870 - val_accuracy: 0.3400\n",
      "Epoch 59/100\n",
      "1/1 [==============================] - 3s 3s/step - loss: 0.6324 - accuracy: 0.6555 - val_loss: 0.7863 - val_accuracy: 0.3400\n",
      "Epoch 60/100\n",
      "1/1 [==============================] - 3s 3s/step - loss: 0.6279 - accuracy: 0.6555 - val_loss: 0.7862 - val_accuracy: 0.3400\n",
      "Epoch 61/100\n",
      "1/1 [==============================] - 3s 3s/step - loss: 0.6370 - accuracy: 0.6555 - val_loss: 0.7862 - val_accuracy: 0.3400\n",
      "Epoch 62/100\n",
      "1/1 [==============================] - 4s 4s/step - loss: 0.6326 - accuracy: 0.6555 - val_loss: 0.7859 - val_accuracy: 0.3400\n",
      "Epoch 63/100\n",
      "1/1 [==============================] - 2s 2s/step - loss: 0.6406 - accuracy: 0.6555 - val_loss: 0.7853 - val_accuracy: 0.3400\n",
      "Epoch 64/100\n",
      "1/1 [==============================] - 2s 2s/step - loss: 0.6338 - accuracy: 0.6555 - val_loss: 0.7853 - val_accuracy: 0.3400\n",
      "Epoch 65/100\n",
      "1/1 [==============================] - 3s 3s/step - loss: 0.6311 - accuracy: 0.6555 - val_loss: 0.7849 - val_accuracy: 0.3400\n",
      "Epoch 66/100\n",
      "1/1 [==============================] - 3s 3s/step - loss: 0.6317 - accuracy: 0.6555 - val_loss: 0.7845 - val_accuracy: 0.3400\n",
      "Epoch 67/100\n",
      "1/1 [==============================] - 3s 3s/step - loss: 0.6315 - accuracy: 0.6555 - val_loss: 0.7833 - val_accuracy: 0.3400\n",
      "Epoch 68/100\n",
      "1/1 [==============================] - 4s 4s/step - loss: 0.6336 - accuracy: 0.6555 - val_loss: 0.7836 - val_accuracy: 0.3400\n",
      "Epoch 69/100\n",
      "1/1 [==============================] - 5s 5s/step - loss: 0.6274 - accuracy: 0.6555 - val_loss: 0.7828 - val_accuracy: 0.3400\n",
      "Epoch 70/100\n",
      "1/1 [==============================] - 4s 4s/step - loss: 0.6253 - accuracy: 0.6603 - val_loss: 0.7833 - val_accuracy: 0.3400\n",
      "Epoch 71/100\n",
      "1/1 [==============================] - 5s 5s/step - loss: 0.6345 - accuracy: 0.6555 - val_loss: 0.7822 - val_accuracy: 0.3400\n",
      "Epoch 72/100\n",
      "1/1 [==============================] - 3s 3s/step - loss: 0.6296 - accuracy: 0.6555 - val_loss: 0.7819 - val_accuracy: 0.3400\n",
      "Epoch 73/100\n",
      "1/1 [==============================] - 2s 2s/step - loss: 0.6316 - accuracy: 0.6555 - val_loss: 0.7809 - val_accuracy: 0.3400\n",
      "Epoch 74/100\n",
      "1/1 [==============================] - 2s 2s/step - loss: 0.6341 - accuracy: 0.6555 - val_loss: 0.7808 - val_accuracy: 0.3400\n",
      "Epoch 75/100\n",
      "1/1 [==============================] - 3s 3s/step - loss: 0.6234 - accuracy: 0.6555 - val_loss: 0.7803 - val_accuracy: 0.3400\n",
      "Epoch 76/100\n",
      "1/1 [==============================] - 3s 3s/step - loss: 0.6298 - accuracy: 0.6555 - val_loss: 0.7797 - val_accuracy: 0.3400\n",
      "Epoch 77/100\n",
      "1/1 [==============================] - 3s 3s/step - loss: 0.6353 - accuracy: 0.6555 - val_loss: 0.7791 - val_accuracy: 0.3400\n",
      "Epoch 78/100\n",
      "1/1 [==============================] - 4s 4s/step - loss: 0.6248 - accuracy: 0.6555 - val_loss: 0.7786 - val_accuracy: 0.3400\n",
      "Epoch 79/100\n",
      "1/1 [==============================] - 5s 5s/step - loss: 0.6320 - accuracy: 0.6555 - val_loss: 0.7780 - val_accuracy: 0.3400\n",
      "Epoch 80/100\n",
      "1/1 [==============================] - 4s 4s/step - loss: 0.6244 - accuracy: 0.6555 - val_loss: 0.7777 - val_accuracy: 0.3400\n",
      "Epoch 81/100\n",
      "1/1 [==============================] - 3s 3s/step - loss: 0.6281 - accuracy: 0.6555 - val_loss: 0.7776 - val_accuracy: 0.3400\n",
      "Epoch 82/100\n",
      "1/1 [==============================] - 4s 4s/step - loss: 0.6282 - accuracy: 0.6603 - val_loss: 0.7775 - val_accuracy: 0.3400\n",
      "Epoch 83/100\n",
      "1/1 [==============================] - 3s 3s/step - loss: 0.6303 - accuracy: 0.6555 - val_loss: 0.7779 - val_accuracy: 0.3400\n",
      "Epoch 84/100\n",
      "1/1 [==============================] - 3s 3s/step - loss: 0.6232 - accuracy: 0.6555 - val_loss: 0.7778 - val_accuracy: 0.3400\n",
      "Epoch 85/100\n",
      "1/1 [==============================] - 3s 3s/step - loss: 0.6237 - accuracy: 0.6555 - val_loss: 0.7778 - val_accuracy: 0.3400\n",
      "Epoch 86/100\n",
      "1/1 [==============================] - 2s 2s/step - loss: 0.6300 - accuracy: 0.6555 - val_loss: 0.7764 - val_accuracy: 0.3400\n",
      "Epoch 87/100\n",
      "1/1 [==============================] - 2s 2s/step - loss: 0.6260 - accuracy: 0.6555 - val_loss: 0.7767 - val_accuracy: 0.3400\n",
      "Epoch 88/100\n",
      "1/1 [==============================] - 3s 3s/step - loss: 0.6248 - accuracy: 0.6555 - val_loss: 0.7766 - val_accuracy: 0.3400\n",
      "Epoch 89/100\n",
      "1/1 [==============================] - 3s 3s/step - loss: 0.6258 - accuracy: 0.6555 - val_loss: 0.7764 - val_accuracy: 0.3400\n",
      "Epoch 90/100\n",
      "1/1 [==============================] - 2s 2s/step - loss: 0.6328 - accuracy: 0.6555 - val_loss: 0.7765 - val_accuracy: 0.3400\n",
      "Epoch 91/100\n",
      "1/1 [==============================] - 1s 1s/step - loss: 0.6322 - accuracy: 0.6555 - val_loss: 0.7751 - val_accuracy: 0.3400\n",
      "Epoch 92/100\n",
      "1/1 [==============================] - 2s 2s/step - loss: 0.6228 - accuracy: 0.6555 - val_loss: 0.7755 - val_accuracy: 0.3400\n",
      "Epoch 93/100\n",
      "1/1 [==============================] - 2s 2s/step - loss: 0.6276 - accuracy: 0.6555 - val_loss: 0.7750 - val_accuracy: 0.3400\n",
      "Epoch 94/100\n",
      "1/1 [==============================] - 2s 2s/step - loss: 0.6296 - accuracy: 0.6555 - val_loss: 0.7748 - val_accuracy: 0.3400\n",
      "Epoch 95/100\n",
      "1/1 [==============================] - 2s 2s/step - loss: 0.6222 - accuracy: 0.6555 - val_loss: 0.7747 - val_accuracy: 0.3400\n",
      "Epoch 96/100\n",
      "1/1 [==============================] - 2s 2s/step - loss: 0.6209 - accuracy: 0.6555 - val_loss: 0.7736 - val_accuracy: 0.3400\n",
      "Epoch 97/100\n",
      "1/1 [==============================] - 3s 3s/step - loss: 0.6295 - accuracy: 0.6555 - val_loss: 0.7727 - val_accuracy: 0.3400\n",
      "Epoch 98/100\n",
      "1/1 [==============================] - 2s 2s/step - loss: 0.6241 - accuracy: 0.6603 - val_loss: 0.7731 - val_accuracy: 0.3400\n",
      "Epoch 99/100\n",
      "1/1 [==============================] - 3s 3s/step - loss: 0.6215 - accuracy: 0.6603 - val_loss: 0.7734 - val_accuracy: 0.3400\n",
      "Epoch 100/100\n",
      "1/1 [==============================] - 2s 2s/step - loss: 0.6180 - accuracy: 0.6555 - val_loss: 0.7728 - val_accuracy: 0.3400\n"
     ]
    }
   ],
   "source": [
    "# early_stop = keras.callbacks.EarlyStopping(monitor='val_loss', patience=100)\n",
    "\n",
    "# in order to achieve the accuracy of 82%, this was run 4 times, totalling 400 epochs.\n",
    "# The only things that changed was the batch size, which was respectivelly: 64, 64, 128, 209\n",
    "results = model_cnn.fit(\n",
    "  train_set_x_n,\n",
    "  train_set_y,\n",
    "  epochs=100,\n",
    "  batch_size=209,\n",
    "  validation_data=(test_set_x_n, test_set_y),\n",
    "  verbose = 1,\n",
    "  # callbacks=[early_stop]\n",
    ")\n"
   ]
  },
  {
   "cell_type": "code",
   "execution_count": 6,
   "metadata": {},
   "outputs": [
    {
     "data": {
      "image/png": "[encoded data removed]",
      "text/plain": [
       "<Figure size 432x288 with 1 Axes>"
      ]
     },
     "metadata": {
      "needs_background": "light"
     },
     "output_type": "display_data"
    },
    {
     "data": {
      "image/png": "[encoded data removed]",
      "text/plain": [
       "<Figure size 432x288 with 1 Axes>"
      ]
     },
     "metadata": {
      "needs_background": "light"
     },
     "output_type": "display_data"
    },
    {
     "name": "stdout",
     "output_type": "stream",
     "text": [
      "2/2 [==============================] - 0s 73ms/step\n",
      "[[0. 1.]\n",
      " [0. 1.]\n",
      " [1. 0.]\n",
      " [0. 1.]\n",
      " [0. 1.]]\n",
      "\n",
      " [[0.0000000e+00]\n",
      " [0.0000000e+00]\n",
      " [4.6159624e-33]\n",
      " [0.0000000e+00]\n",
      " [0.0000000e+00]]\n",
      "\n",
      " [[1. 0.]\n",
      " [1. 0.]\n",
      " [1. 0.]\n",
      " [1. 0.]\n",
      " [1. 0.]]\n"
     ]
    },
    {
     "data": {
      "text/plain": [
       "<sklearn.metrics._plot.confusion_matrix.ConfusionMatrixDisplay at 0x7fb1d41f4040>"
      ]
     },
     "execution_count": 6,
     "metadata": {},
     "output_type": "execute_result"
    },
    {
     "data": {
      "image/png": "[encoded data removed]",
      "text/plain": [
       "<Figure size 432x288 with 2 Axes>"
      ]
     },
     "metadata": {
      "needs_background": "light"
     },
     "output_type": "display_data"
    }
   ],
   "source": [
    "acc = results.history['accuracy']\n",
    "val_acc = results.history['val_accuracy']\n",
    "loss = results.history['loss']\n",
    "val_loss = results.history['val_loss']\n",
    "epochs = range(1, len(acc) + 1)\n",
    "\n",
    "plt.plot(epochs, acc, 'b', label= 'Training accuracy')\n",
    "plt.plot(epochs, val_acc, 'r', label= 'Validation accuracy')\n",
    "plt.title('Training and Validation accuracy')\n",
    "plt.legend()\n",
    "\n",
    "plt.figure()\n",
    "plt.plot(epochs, loss, 'b', label= 'Training loss')\n",
    "plt.plot(epochs, val_loss, 'r', label= 'Validation loss')\n",
    "plt.title('Training and Validation loss')\n",
    "plt.legend()\n",
    "\n",
    "plt.show()\n",
    "\n",
    "num_classes = 2\n",
    "# one-hot-encoding y set\n",
    "y_test_multi_class = keras.utils.to_categorical(test_set_y, num_classes)\n",
    "y_test_prediction = model_cnn.predict(test_set_x)\n",
    "y_test_prediction_rounded = [round(x) for arr in y_test_prediction for x in arr]\n",
    "y_test_prediction_multi_class = keras.utils.to_categorical(y_test_prediction_rounded, num_classes)\n",
    "\n",
    "\n",
    "# tf.compat.v1.disable_eager_execution() # this (in theory) avoids a warning message, more info in https://stackoverflow.com/questions/69136518/tensorflow-2-getting-warningtensorflowx-out-of-the-last-x-calls-to-function\n",
    "print(y_test_multi_class[3:8])\n",
    "print(\"\\n\",y_test_prediction[3:8])\n",
    "print(\"\\n\",y_test_prediction_multi_class[3:8])\n",
    "\n",
    "#Your input to confusion_matrix must be an array of int not one hot encodings.\n",
    "ConfusionMatrixDisplay.from_predictions(y_test_multi_class.argmax(axis=1), y_test_prediction_multi_class.argmax(axis=1))"
   ]
  },
  {
   "cell_type": "code",
   "execution_count": 7,
   "metadata": {},
   "outputs": [
    {
     "name": "stdout",
     "output_type": "stream",
     "text": [
      "v2.12.0-rc1-12-g0db597d0d75 2.12.0\n",
      "2.12.0\n"
     ]
    }
   ],
   "source": [
    "print(tf.version.GIT_VERSION, tf.version.VERSION)\n",
    "print(keras.__version__)"
   ]
  },
  {
   "cell_type": "markdown",
   "metadata": {},
   "source": [
    "# Pickling the model for deployment"
   ]
  },
  {
   "cell_type": "code",
   "execution_count": 9,
   "metadata": {},
   "outputs": [],
   "source": [
    "import pickle\n",
    "\n",
    "pickle.dump(model_cnn, open('model_cnn.pkl', 'wb'))"
   ]
  }
 ],
 "metadata": {
  "kernelspec": {
   "display_name": "Python 3.10.4 64-bit",
   "language": "python",
   "name": "python3"
  },
  "language_info": {
   "codemirror_mode": {
    "name": "ipython",
    "version": 3
   },
   "file_extension": ".py",
   "mimetype": "text/x-python",
   "name": "python",
   "nbconvert_exporter": "python",
   "pygments_lexer": "ipython3",
   "version": "3.10.12"
  },
  "orig_nbformat": 4,
  "vscode": {
   "interpreter": {
    "hash": "916dbcbb3f70747c44a77c7bcd40155683ae19c65e1c03b4aa3499c5328201f1"
   }
  }
 },
 "nbformat": 4,
 "nbformat_minor": 2
}
